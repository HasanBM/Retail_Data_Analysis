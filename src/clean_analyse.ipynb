{
 "cells": [
  {
   "cell_type": "code",
   "execution_count": 38,
   "metadata": {},
   "outputs": [],
   "source": [
    "import pandas as pd\n",
    "import numpy as np\n",
    "from datetime import datetime\n",
    "\n",
    "file_path = '/Users/HM/Desktop/Code/FOIL_DA_Task-10-2024/data/Online_Retail.xlsx'\n",
    "xls_data = pd.read_excel(file_path)\n",
    "\n",
    "def load_data(file_path):\n",
    "    file_path = '/Users/HM/Desktop/Code/FOIL_DA_Task-10-2024/data/Online_Retail.xlsx'\n",
    "    xls_data = pd.read_excel(file_path)\n",
    "\n",
    "    xls_data = xls_data.sort_values(by='InvoiceDate').reset_index(drop=True)\n",
    "\n",
    "    return xls_data.shape, xls_data.head(5)"
   ]
  },
  {
   "cell_type": "markdown",
   "metadata": {},
   "source": [
    "Some price data is negative, while quantities for certain items are also negative implying outflow.\n",
    "\n",
    "A large number of CustomerIDs are missing.\n",
    "\n",
    "Some items seem to have been mislabeled as other items.\n",
    "\n",
    "Entries in the Description column are in combination upper- and lower-case, while item names are entirely in upper-case."
   ]
  },
  {
   "cell_type": "code",
   "execution_count": 39,
   "metadata": {},
   "outputs": [],
   "source": [
    "def empty_values(file_path):\n",
    "    \n",
    "    file_path = file_path = '/Users/HM/Desktop/Code/FOIL_DA_Task-10-2024/data/Online_Retail.xlsx'\n",
    "    \n",
    "    xls_data = pd.read_excel(file_path)\n",
    "\n",
    "    cols = ['InvoiceNo', 'StockCode', 'Description', 'Quantity', 'InvoiceDate', 'UnitPrice', 'CustomerID', 'Country']\n",
    "    \n",
    "    empty_values_count = {}\n",
    "    \n",
    "    for col in cols:\n",
    "        if xls_data[col].dtype == 'object':\n",
    "            empty_values = xls_data[xls_data[col].isnull() | xls_data[col].str.strip() == \"\"]\n",
    "        else:\n",
    "            empty_values = xls_data[xls_data[col].isnull()]\n",
    "\n",
    "        empty_values_count[col] = len(empty_values)\n",
    "\n",
    "        if len(empty_values) > 0:\n",
    "            print(f\"Column {col} has {len(empty_values)} missing or empty values\")\n",
    "        else:\n",
    "            print(f\"No empty or missing values found in {col} column\")\n",
    "            \n",
    "    return empty_values_count"
   ]
  },
  {
   "cell_type": "markdown",
   "metadata": {},
   "source": [
    "Filling empty Customer IDs with -1"
   ]
  },
  {
   "cell_type": "code",
   "execution_count": 40,
   "metadata": {},
   "outputs": [],
   "source": [
    "def fill_missing_cust_id(file_path):\n",
    "    file_path = 'data/Online_Retail.xlsx'\n",
    "    xls_data = pd.read_excel(file_path)\n",
    "    prior_missing_cust_ids= xls_data['CustomerID'].isnull().sum()\n",
    "    xls_data['CustomerID'] = xls_data['CustomerID'].fillna(-1)\n",
    "\n",
    "    post_missing_cust_ids = xls_data['CustomerID'].isnull().sum()\n",
    "\n",
    "    return prior_missing_cust_ids, post_missing_cust_ids"
   ]
  },
  {
   "cell_type": "code",
   "execution_count": 41,
   "metadata": {},
   "outputs": [
    {
     "name": "stdout",
     "output_type": "stream",
     "text": [
      "((541909, 8),   InvoiceNo StockCode                          Description  Quantity  \\\n",
      "0    536365     71053                  WHITE METAL LANTERN         6   \n",
      "1    536365    85123A   WHITE HANGING HEART T-LIGHT HOLDER         6   \n",
      "2    536365    84029G  KNITTED UNION FLAG HOT WATER BOTTLE         6   \n",
      "3    536365    84029E       RED WOOLLY HOTTIE WHITE HEART.         6   \n",
      "4    536365     22752         SET 7 BABUSHKA NESTING BOXES         2   \n",
      "\n",
      "          InvoiceDate  UnitPrice  CustomerID         Country  \n",
      "0 2010-12-01 08:26:00       3.39     17850.0  United Kingdom  \n",
      "1 2010-12-01 08:26:00       2.55     17850.0  United Kingdom  \n",
      "2 2010-12-01 08:26:00       3.39     17850.0  United Kingdom  \n",
      "3 2010-12-01 08:26:00       3.39     17850.0  United Kingdom  \n",
      "4 2010-12-01 08:26:00       7.65     17850.0  United Kingdom  )\n"
     ]
    }
   ],
   "source": [
    "print(load_data(file_path))"
   ]
  },
  {
   "cell_type": "code",
   "execution_count": 42,
   "metadata": {},
   "outputs": [
    {
     "name": "stdout",
     "output_type": "stream",
     "text": [
      "No empty or missing values found in InvoiceNo column\n",
      "No empty or missing values found in StockCode column\n",
      "No empty or missing values found in Description column\n",
      "No empty or missing values found in Quantity column\n",
      "No empty or missing values found in InvoiceDate column\n",
      "No empty or missing values found in UnitPrice column\n",
      "Column CustomerID has 135080 missing or empty values\n",
      "No empty or missing values found in Country column\n",
      "{'InvoiceNo': 0, 'StockCode': 0, 'Description': 0, 'Quantity': 0, 'InvoiceDate': 0, 'UnitPrice': 0, 'CustomerID': 135080, 'Country': 0}\n"
     ]
    }
   ],
   "source": [
    "print(empty_values(file_path))"
   ]
  }
 ],
 "metadata": {
  "kernelspec": {
   "display_name": "venv",
   "language": "python",
   "name": "python3"
  },
  "language_info": {
   "codemirror_mode": {
    "name": "ipython",
    "version": 3
   },
   "file_extension": ".py",
   "mimetype": "text/x-python",
   "name": "python",
   "nbconvert_exporter": "python",
   "pygments_lexer": "ipython3",
   "version": "3.11.1"
  }
 },
 "nbformat": 4,
 "nbformat_minor": 2
}
