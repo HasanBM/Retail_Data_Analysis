{
 "cells": [
  {
   "cell_type": "code",
   "execution_count": 105,
   "metadata": {},
   "outputs": [],
   "source": [
    "import pandas as pd\n",
    "from datetime import datetime\n",
    "\n",
    "file_path = '/Users/HM/Desktop/Code/FOIL_DA_Task-10-2024/data/Online_Retail.xlsx'\n",
    "df = pd.read_excel(file_path)\n"
   ]
  },
  {
   "cell_type": "code",
   "execution_count": 106,
   "metadata": {},
   "outputs": [],
   "source": [
    "\n",
    "def load_data(file_path):\n",
    "\n",
    "    df = pd.read_excel(file_path)\n",
    "\n",
    "    df = df.sort_values(by='InvoiceDate').reset_index(drop=True)\n",
    "\n",
    "    return df.shape, df.head(5), df.info()"
   ]
  },
  {
   "cell_type": "code",
   "execution_count": 107,
   "metadata": {},
   "outputs": [
    {
     "name": "stdout",
     "output_type": "stream",
     "text": [
      "<class 'pandas.core.frame.DataFrame'>\n",
      "RangeIndex: 541909 entries, 0 to 541908\n",
      "Data columns (total 8 columns):\n",
      " #   Column       Non-Null Count   Dtype         \n",
      "---  ------       --------------   -----         \n",
      " 0   InvoiceNo    541909 non-null  object        \n",
      " 1   StockCode    541909 non-null  object        \n",
      " 2   Description  540455 non-null  object        \n",
      " 3   Quantity     541909 non-null  int64         \n",
      " 4   InvoiceDate  541909 non-null  datetime64[ns]\n",
      " 5   UnitPrice    541909 non-null  float64       \n",
      " 6   CustomerID   406829 non-null  float64       \n",
      " 7   Country      541909 non-null  object        \n",
      "dtypes: datetime64[ns](1), float64(2), int64(1), object(4)\n",
      "memory usage: 33.1+ MB\n",
      "((541909, 8),   InvoiceNo StockCode                          Description  Quantity  \\\n",
      "0    536365    85123A   WHITE HANGING HEART T-LIGHT HOLDER         6   \n",
      "1    536365     71053                  WHITE METAL LANTERN         6   \n",
      "2    536365    84406B       CREAM CUPID HEARTS COAT HANGER         8   \n",
      "3    536365    84029G  KNITTED UNION FLAG HOT WATER BOTTLE         6   \n",
      "4    536365    84029E       RED WOOLLY HOTTIE WHITE HEART.         6   \n",
      "\n",
      "          InvoiceDate  UnitPrice  CustomerID         Country  \n",
      "0 2010-12-01 08:26:00       2.55     17850.0  United Kingdom  \n",
      "1 2010-12-01 08:26:00       3.39     17850.0  United Kingdom  \n",
      "2 2010-12-01 08:26:00       2.75     17850.0  United Kingdom  \n",
      "3 2010-12-01 08:26:00       3.39     17850.0  United Kingdom  \n",
      "4 2010-12-01 08:26:00       3.39     17850.0  United Kingdom  , None)\n"
     ]
    }
   ],
   "source": [
    "print(load_data(file_path))"
   ]
  },
  {
   "cell_type": "markdown",
   "metadata": {},
   "source": [
    "\n",
    "A large number of CustomerIDs are missing, and will be filled in using '-1'.\n",
    "\n",
    "Direct visual inspection of the spreadsheet shows that some items seem to have been mislabeled as other items.\n",
    "\n",
    "Entries in the Description column are in combination upper- and lower-case, while item names are entirely in upper-case. This does not need to be changed. "
   ]
  },
  {
   "cell_type": "code",
   "execution_count": 108,
   "metadata": {},
   "outputs": [
    {
     "name": "stdout",
     "output_type": "stream",
     "text": [
      "No empty or missing values found in InvoiceNo column\n",
      "No empty or missing values found in StockCode column\n",
      "Column Description has 1454 missing or empty values\n",
      "No empty or missing values found in Quantity column\n",
      "No empty or missing values found in InvoiceDate column\n",
      "No empty or missing values found in UnitPrice column\n",
      "Column CustomerID has 135080 missing or empty values\n",
      "No empty or missing values found in Country column\n",
      "{'InvoiceNo': 0, 'StockCode': 0, 'Description': 1454, 'Quantity': 0, 'InvoiceDate': 0, 'UnitPrice': 0, 'CustomerID': 135080, 'Country': 0}\n"
     ]
    }
   ],
   "source": [
    "def empty_values(file_path):\n",
    "    \n",
    "    \n",
    "    df = pd.read_excel(file_path)\n",
    "\n",
    "    cols = ['InvoiceNo', 'StockCode', 'Description', 'Quantity', 'InvoiceDate', 'UnitPrice', 'CustomerID', 'Country']\n",
    "    \n",
    "    empty_values_count = {}\n",
    "    \n",
    "    for col in cols:\n",
    "        if df[col].dtype == 'object':\n",
    "            empty_values = df[df[col].isnull() | (df[col].str.strip() == \"\")]\n",
    "        else:\n",
    "            empty_values = df[df[col].isnull()]\n",
    "\n",
    "        empty_values_count[col] = len(empty_values)\n",
    "\n",
    "        if len(empty_values) > 0:\n",
    "            print(f\"Column {col} has {len(empty_values)} missing or empty values\")\n",
    "        else:\n",
    "            print(f\"No empty or missing values found in {col} column\")\n",
    "            \n",
    "    return empty_values_count\n",
    "\n",
    "print(empty_values(file_path))"
   ]
  },
  {
   "cell_type": "markdown",
   "metadata": {},
   "source": [
    "Filling empty Customer IDs and Descriptions with suitable values"
   ]
  },
  {
   "cell_type": "code",
   "execution_count": 109,
   "metadata": {},
   "outputs": [],
   "source": [
    "def fill_missing_cust_id(file_path):\n",
    "\n",
    "    df = pd.read_excel(file_path)\n",
    "    prior_missing_cust_ids= df['CustomerID'].isnull().sum()\n",
    "    df['CustomerID'] = df['CustomerID'].fillna(\"Missing ID\")\n",
    "\n",
    "    post_missing_cust_ids = df['CustomerID'].isnull().sum()\n",
    "\n",
    "    return prior_missing_cust_ids, post_missing_cust_ids"
   ]
  },
  {
   "cell_type": "code",
   "execution_count": 110,
   "metadata": {},
   "outputs": [],
   "source": [
    "def fill_missing_description(file_path):\n",
    "    \n",
    "    df = pd.read_excel(file_path)\n",
    "    \n",
    "    prior_missing_descriptions = df['Description'].isnull().sum()\n",
    "    \n",
    "    df['Description'] = df['Description'].fillna(\"Missing Description\")\n",
    "    \n",
    "    post_missing_descriptions = df['Description'].isnull().sum()\n",
    "    \n",
    "    df.to_excel(file_path, index=False)\n",
    "    return prior_missing_descriptions, post_missing_descriptions"
   ]
  },
  {
   "cell_type": "code",
   "execution_count": 111,
   "metadata": {},
   "outputs": [
    {
     "name": "stdout",
     "output_type": "stream",
     "text": [
      "0.0% of InvoiceNo is missing\n",
      "0.0% of StockCode is missing\n",
      "0.2683107311375157% of Description is missing\n",
      "0.0% of Quantity is missing\n",
      "0.0% of InvoiceDate is missing\n",
      "0.0% of UnitPrice is missing\n",
      "24.926694334288598% of CustomerID is missing\n",
      "0.0% of Country is missing\n"
     ]
    }
   ],
   "source": [
    "for col in ['InvoiceNo', 'StockCode', 'Description', 'Quantity', 'InvoiceDate', 'UnitPrice', 'CustomerID', 'Country']:\n",
    "    print(f\"{df[col].isnull().mean() * 100}% of {col} is missing\")"
   ]
  },
  {
   "cell_type": "markdown",
   "metadata": {},
   "source": [
    "We see there are two columns where values are missing, so we will need to deal with those. We also need to check those values that do not make any sense e.g. negative values for Quantity or UnitPrice."
   ]
  },
  {
   "cell_type": "markdown",
   "metadata": {},
   "source": [
    "First, however, we need to drop duplicate rows to prevent double-counting."
   ]
  },
  {
   "cell_type": "code",
   "execution_count": 112,
   "metadata": {},
   "outputs": [],
   "source": [
    "def drop_duplicates(file_path):\n",
    "\n",
    "    df = pd.read_excel(file_path)\n",
    "    df = df.drop_duplicates()\n",
    "    \n",
    "    return df"
   ]
  },
  {
   "cell_type": "markdown",
   "metadata": {},
   "source": [
    "Next we deal with non-positive prices."
   ]
  },
  {
   "cell_type": "code",
   "execution_count": 125,
   "metadata": {},
   "outputs": [],
   "source": [
    "def impute_unit_price(df):\n",
    "    mask = df['UnitPrice'] <= 0\n",
    "    for stock_code in df.loc[mask, 'StockCode'].unique():\n",
    "        positive_prices = df[(df['StockCode'] == stock_code) & (df['UnitPrice'] > 0)]['UnitPrice']\n",
    "        if not positive_prices.empty:\n",
    "            mean_positive_price = positive_prices.mean()\n",
    "            df.loc[(df['StockCode'] == stock_code) & mask, 'UnitPrice'] = mean_positive_price\n",
    "            \n",
    "    return df\n"
   ]
  },
  {
   "cell_type": "code",
   "execution_count": 126,
   "metadata": {},
   "outputs": [
    {
     "name": "stdout",
     "output_type": "stream",
     "text": [
      "0.46% of UnitPrice values are zero or negative\n"
     ]
    }
   ],
   "source": [
    "negative_or_zero_price_percentage = (df['UnitPrice'] <= 0).mean() * 100\n",
    "print(f\"{negative_or_zero_price_percentage:.2f}% of UnitPrice values are zero or negative\")\n"
   ]
  },
  {
   "cell_type": "code",
   "execution_count": 130,
   "metadata": {},
   "outputs": [
    {
     "name": "stdout",
     "output_type": "stream",
     "text": [
      "After imputation, 0.02% of UnitPrice values are zero or negative\n"
     ]
    }
   ],
   "source": [
    "cleaned_df = impute_unit_price(df)\n",
    "new_negative_or_zero_price_percentage = (cleaned_df['UnitPrice'] <= 0).mean() * 100\n",
    "print(f\"After imputation, {new_negative_or_zero_price_percentage:.2f}% of UnitPrice values are zero or negative\")"
   ]
  },
  {
   "cell_type": "markdown",
   "metadata": {},
   "source": [
    "After imputation, we are left with a very small number of negative or zero UnitPrices. \n",
    "Because of the impossibility of finding out what these prices should be, we will drop them."
   ]
  },
  {
   "cell_type": "code",
   "execution_count": 133,
   "metadata": {},
   "outputs": [
    {
     "name": "stdout",
     "output_type": "stream",
     "text": [
      "       InvoiceNo StockCode                          Description  Quantity  \\\n",
      "0         536365    85123A   WHITE HANGING HEART T-LIGHT HOLDER         6   \n",
      "1         536365     71053                  WHITE METAL LANTERN         6   \n",
      "2         536365    84406B       CREAM CUPID HEARTS COAT HANGER         8   \n",
      "3         536365    84029G  KNITTED UNION FLAG HOT WATER BOTTLE         6   \n",
      "4         536365    84029E       RED WOOLLY HOTTIE WHITE HEART.         6   \n",
      "...          ...       ...                                  ...       ...   \n",
      "541902   C581490     23144      ZINC T-LIGHT HOLDER STARS SMALL       -11   \n",
      "541903   C581499         M                               Manual        -1   \n",
      "541904   C581568     21258           VICTORIAN SEWING BOX LARGE        -5   \n",
      "541905   C581569     84978     HANGING HEART JAR T-LIGHT HOLDER        -1   \n",
      "541906   C581569     20979        36 PENCILS TUBE RED RETROSPOT        -5   \n",
      "\n",
      "               InvoiceDate  UnitPrice  CustomerID         Country  \n",
      "0      2010-12-01 08:26:00       2.55     17850.0  United Kingdom  \n",
      "1      2010-12-01 08:26:00       3.39     17850.0  United Kingdom  \n",
      "2      2010-12-01 08:26:00       2.75     17850.0  United Kingdom  \n",
      "3      2010-12-01 08:26:00       3.39     17850.0  United Kingdom  \n",
      "4      2010-12-01 08:26:00       3.39     17850.0  United Kingdom  \n",
      "...                    ...        ...         ...             ...  \n",
      "541902 2011-12-09 09:57:00       0.83     14397.0  United Kingdom  \n",
      "541903 2011-12-09 10:28:00     224.69     15498.0  United Kingdom  \n",
      "541904 2011-12-09 11:57:00      10.95     15311.0  United Kingdom  \n",
      "541905 2011-12-09 11:58:00       1.25     17315.0  United Kingdom  \n",
      "541906 2011-12-09 11:58:00       1.25     17315.0  United Kingdom  \n",
      "\n",
      "[541907 rows x 8 columns]\n"
     ]
    }
   ],
   "source": [
    "df_no_neg_prices = cleaned_df[df['UnitPrice'] >= 0]\n",
    "df_no_neg_prices .reset_index(drop=True, inplace=True)\n",
    "print(df_no_neg_prices)"
   ]
  },
  {
   "cell_type": "code",
   "execution_count": 134,
   "metadata": {},
   "outputs": [
    {
     "name": "stdout",
     "output_type": "stream",
     "text": [
      "1.96% of Quantity values are zero or negative\n"
     ]
    }
   ],
   "source": [
    "negative_quantity = (cleaned_df[\"Quantity\"] <= 0).mean() * 100\n",
    "print(f\"{negative_quantity:.2f}% of Quantity values are zero or negative\")"
   ]
  },
  {
   "cell_type": "markdown",
   "metadata": {},
   "source": [
    "Because the cases where Quantity is zero or negative deal with adjustments or outflows, we will ignore that data when looking for the top-selling data and average consumer statistics. "
   ]
  },
  {
   "cell_type": "code",
   "execution_count": 135,
   "metadata": {},
   "outputs": [],
   "source": [
    "final_df = cleaned_df[cleaned_df['Quantity'] > 0]"
   ]
  },
  {
   "cell_type": "code",
   "execution_count": 136,
   "metadata": {},
   "outputs": [
    {
     "data": {
      "text/plain": [
       "Country\n",
       "United Kingdom    91.530158\n",
       "Germany            1.701911\n",
       "France             1.582578\n",
       "EIRE               1.485832\n",
       "Spain              0.467734\n",
       "Netherlands        0.444771\n",
       "Belgium            0.382281\n",
       "Switzerland        0.370234\n",
       "Portugal           0.282523\n",
       "Australia          0.223044\n",
       "Name: proportion, dtype: float64"
      ]
     },
     "execution_count": 136,
     "metadata": {},
     "output_type": "execute_result"
    }
   ],
   "source": [
    "final_df[\"Country\"].value_counts(normalize=True).head(10) * 100"
   ]
  },
  {
   "cell_type": "markdown",
   "metadata": {},
   "source": [
    "The UK accounts for almost 92% of all transactions, with the rest being made up of neighbouring EU countries. "
   ]
  },
  {
   "cell_type": "code",
   "execution_count": 137,
   "metadata": {},
   "outputs": [
    {
     "name": "stdout",
     "output_type": "stream",
     "text": [
      "The first transaction was made at 2010-12-01 08:26:00\n",
      "The latest transaction was made at 2011-12-09 12:50:00\n",
      "There were a total of 20728 transactions\n"
     ]
    }
   ],
   "source": [
    "print(f\"After cleaning, the first transaction was made at {final_df['InvoiceDate'].min()}\")\n",
    "print(f\"The latest transaction was made at {final_df['InvoiceDate'].max()}\")\n",
    "print(f\"There were a total of {final_df['InvoiceNo'].nunique()} transactions\")"
   ]
  },
  {
   "cell_type": "markdown",
   "metadata": {},
   "source": [
    "We can now get a sense of the cleaned data"
   ]
  },
  {
   "cell_type": "code",
   "execution_count": 146,
   "metadata": {},
   "outputs": [
    {
     "name": "stdout",
     "output_type": "stream",
     "text": [
      "(531285, 8)\n",
      "<bound method DataFrame.info of        InvoiceNo StockCode                          Description  Quantity  \\\n",
      "0         536365    85123A   WHITE HANGING HEART T-LIGHT HOLDER         6   \n",
      "1         536365     71053                  WHITE METAL LANTERN         6   \n",
      "2         536365    84406B       CREAM CUPID HEARTS COAT HANGER         8   \n",
      "3         536365    84029G  KNITTED UNION FLAG HOT WATER BOTTLE         6   \n",
      "4         536365    84029E       RED WOOLLY HOTTIE WHITE HEART.         6   \n",
      "...          ...       ...                                  ...       ...   \n",
      "532616    581587     23255      CHILDRENS CUTLERY CIRCUS PARADE         4   \n",
      "532617    581587     22138        BAKING SET 9 PIECE RETROSPOT          3   \n",
      "532618   A563185         B                      Adjust bad debt         1   \n",
      "532619   A563186         B                      Adjust bad debt         1   \n",
      "532620   A563187         B                      Adjust bad debt         1   \n",
      "\n",
      "               InvoiceDate  UnitPrice  CustomerID         Country  \n",
      "0      2010-12-01 08:26:00       2.55     17850.0  United Kingdom  \n",
      "1      2010-12-01 08:26:00       3.39     17850.0  United Kingdom  \n",
      "2      2010-12-01 08:26:00       2.75     17850.0  United Kingdom  \n",
      "3      2010-12-01 08:26:00       3.39     17850.0  United Kingdom  \n",
      "4      2010-12-01 08:26:00       3.39     17850.0  United Kingdom  \n",
      "...                    ...        ...         ...             ...  \n",
      "532616 2011-12-09 12:50:00       4.15     12680.0          France  \n",
      "532617 2011-12-09 12:50:00       4.95     12680.0          France  \n",
      "532618 2011-08-12 14:50:00   11062.06         NaN  United Kingdom  \n",
      "532619 2011-08-12 14:51:00   11062.06         NaN  United Kingdom  \n",
      "532620 2011-08-12 14:52:00   11062.06         NaN  United Kingdom  \n",
      "\n",
      "[531285 rows x 8 columns]>\n"
     ]
    }
   ],
   "source": [
    "print(final_df.shape)\n",
    "\n",
    "print(final_df.info)\n",
    "\n",
    "\n"
   ]
  },
  {
   "cell_type": "markdown",
   "metadata": {},
   "source": [
    "We have maintained the same number of columns but reduced the rows containing data we did not need.\n"
   ]
  },
  {
   "cell_type": "code",
   "execution_count": 147,
   "metadata": {},
   "outputs": [
    {
     "name": "stdout",
     "output_type": "stream",
     "text": [
      "            Quantity                    InvoiceDate      UnitPrice  \\\n",
      "count  531285.000000                         531285  531285.000000   \n",
      "mean       10.655262  2011-07-04 18:15:45.816538624       3.956014   \n",
      "min         1.000000            2010-12-01 08:26:00       0.000000   \n",
      "25%         1.000000            2011-03-28 11:59:00       1.250000   \n",
      "50%         3.000000            2011-07-20 12:01:00       2.080000   \n",
      "75%        10.000000            2011-10-19 12:35:00       4.130000   \n",
      "max     80995.000000            2011-12-09 12:50:00   13541.330000   \n",
      "std       156.830323                            NaN      41.827905   \n",
      "\n",
      "          CustomerID  \n",
      "count  397924.000000  \n",
      "mean    15294.315171  \n",
      "min     12346.000000  \n",
      "25%     13969.000000  \n",
      "50%     15159.000000  \n",
      "75%     16795.000000  \n",
      "max     18287.000000  \n",
      "std      1713.169877  \n"
     ]
    }
   ],
   "source": [
    "summary_stats=final_df.describe()\n",
    "print(summary_stats)"
   ]
  }
 ],
 "metadata": {
  "kernelspec": {
   "display_name": "venv",
   "language": "python",
   "name": "python3"
  },
  "language_info": {
   "codemirror_mode": {
    "name": "ipython",
    "version": 3
   },
   "file_extension": ".py",
   "mimetype": "text/x-python",
   "name": "python",
   "nbconvert_exporter": "python",
   "pygments_lexer": "ipython3",
   "version": "3.11.1"
  }
 },
 "nbformat": 4,
 "nbformat_minor": 2
}
