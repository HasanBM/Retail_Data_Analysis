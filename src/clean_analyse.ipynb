{
 "cells": [
  {
   "cell_type": "code",
   "execution_count": 105,
   "metadata": {},
   "outputs": [],
   "source": [
    "import pandas as pd\n",
    "from datetime import datetime\n",
    "\n",
    "file_path = '/Users/HM/Desktop/Code/FOIL_DA_Task-10-2024/data/Online_Retail.xlsx'\n",
    "df = pd.read_excel(file_path)\n"
   ]
  },
  {
   "cell_type": "code",
   "execution_count": 106,
   "metadata": {},
   "outputs": [],
   "source": [
    "\n",
    "def load_data(file_path):\n",
    "\n",
    "    df = pd.read_excel(file_path)\n",
    "\n",
    "    df = df.sort_values(by='InvoiceDate').reset_index(drop=True)\n",
    "\n",
    "    return df.shape, df.head(5), df.info()"
   ]
  },
  {
   "cell_type": "code",
   "execution_count": 107,
   "metadata": {},
   "outputs": [
    {
     "name": "stdout",
     "output_type": "stream",
     "text": [
      "<class 'pandas.core.frame.DataFrame'>\n",
      "RangeIndex: 541909 entries, 0 to 541908\n",
      "Data columns (total 8 columns):\n",
      " #   Column       Non-Null Count   Dtype         \n",
      "---  ------       --------------   -----         \n",
      " 0   InvoiceNo    541909 non-null  object        \n",
      " 1   StockCode    541909 non-null  object        \n",
      " 2   Description  540455 non-null  object        \n",
      " 3   Quantity     541909 non-null  int64         \n",
      " 4   InvoiceDate  541909 non-null  datetime64[ns]\n",
      " 5   UnitPrice    541909 non-null  float64       \n",
      " 6   CustomerID   406829 non-null  float64       \n",
      " 7   Country      541909 non-null  object        \n",
      "dtypes: datetime64[ns](1), float64(2), int64(1), object(4)\n",
      "memory usage: 33.1+ MB\n",
      "((541909, 8),   InvoiceNo StockCode                          Description  Quantity  \\\n",
      "0    536365    85123A   WHITE HANGING HEART T-LIGHT HOLDER         6   \n",
      "1    536365     71053                  WHITE METAL LANTERN         6   \n",
      "2    536365    84406B       CREAM CUPID HEARTS COAT HANGER         8   \n",
      "3    536365    84029G  KNITTED UNION FLAG HOT WATER BOTTLE         6   \n",
      "4    536365    84029E       RED WOOLLY HOTTIE WHITE HEART.         6   \n",
      "\n",
      "          InvoiceDate  UnitPrice  CustomerID         Country  \n",
      "0 2010-12-01 08:26:00       2.55     17850.0  United Kingdom  \n",
      "1 2010-12-01 08:26:00       3.39     17850.0  United Kingdom  \n",
      "2 2010-12-01 08:26:00       2.75     17850.0  United Kingdom  \n",
      "3 2010-12-01 08:26:00       3.39     17850.0  United Kingdom  \n",
      "4 2010-12-01 08:26:00       3.39     17850.0  United Kingdom  , None)\n"
     ]
    }
   ],
   "source": [
    "print(load_data(file_path))"
   ]
  },
  {
   "cell_type": "markdown",
   "metadata": {},
   "source": [
    "\n",
    "A large number of CustomerIDs are missing, and will be filled in using '-1'.\n",
    "\n",
    "Direct visual inspection of the spreadsheet shows that some items seem to have been mislabeled as other items.\n",
    "\n",
    "Entries in the Description column are in combination upper- and lower-case, while item names are entirely in upper-case. This does not need to be changed. "
   ]
  },
  {
   "cell_type": "code",
   "execution_count": 108,
   "metadata": {},
   "outputs": [
    {
     "name": "stdout",
     "output_type": "stream",
     "text": [
      "No empty or missing values found in InvoiceNo column\n",
      "No empty or missing values found in StockCode column\n",
      "Column Description has 1454 missing or empty values\n",
      "No empty or missing values found in Quantity column\n",
      "No empty or missing values found in InvoiceDate column\n",
      "No empty or missing values found in UnitPrice column\n",
      "Column CustomerID has 135080 missing or empty values\n",
      "No empty or missing values found in Country column\n",
      "{'InvoiceNo': 0, 'StockCode': 0, 'Description': 1454, 'Quantity': 0, 'InvoiceDate': 0, 'UnitPrice': 0, 'CustomerID': 135080, 'Country': 0}\n"
     ]
    }
   ],
   "source": [
    "def empty_values(file_path):\n",
    "    \n",
    "    \n",
    "    df = pd.read_excel(file_path)\n",
    "\n",
    "    cols = ['InvoiceNo', 'StockCode', 'Description', 'Quantity', 'InvoiceDate', 'UnitPrice', 'CustomerID', 'Country']\n",
    "    \n",
    "    empty_values_count = {}\n",
    "    \n",
    "    for col in cols:\n",
    "        if df[col].dtype == 'object':\n",
    "            empty_values = df[df[col].isnull() | (df[col].str.strip() == \"\")]\n",
    "        else:\n",
    "            empty_values = df[df[col].isnull()]\n",
    "\n",
    "        empty_values_count[col] = len(empty_values)\n",
    "\n",
    "        if len(empty_values) > 0:\n",
    "            print(f\"Column {col} has {len(empty_values)} missing or empty values\")\n",
    "        else:\n",
    "            print(f\"No empty or missing values found in {col} column\")\n",
    "            \n",
    "    return empty_values_count\n",
    "\n",
    "print(empty_values(file_path))"
   ]
  },
  {
   "cell_type": "markdown",
   "metadata": {},
   "source": [
    "Filling empty Customer IDs and Descriptions with suitable values"
   ]
  },
  {
   "cell_type": "code",
   "execution_count": 109,
   "metadata": {},
   "outputs": [],
   "source": [
    "def fill_missing_cust_id(file_path):\n",
    "\n",
    "    df = pd.read_excel(file_path)\n",
    "    prior_missing_cust_ids= df['CustomerID'].isnull().sum()\n",
    "    df['CustomerID'] = df['CustomerID'].fillna(\"Missing ID\")\n",
    "\n",
    "    post_missing_cust_ids = df['CustomerID'].isnull().sum()\n",
    "\n",
    "    return prior_missing_cust_ids, post_missing_cust_ids"
   ]
  },
  {
   "cell_type": "code",
   "execution_count": 110,
   "metadata": {},
   "outputs": [],
   "source": [
    "def fill_missing_description(file_path):\n",
    "    \n",
    "    df = pd.read_excel(file_path)\n",
    "    \n",
    "    prior_missing_descriptions = df['Description'].isnull().sum()\n",
    "    \n",
    "    df['Description'] = df['Description'].fillna(\"Missing Description\")\n",
    "    \n",
    "    post_missing_descriptions = df['Description'].isnull().sum()\n",
    "    \n",
    "    df.to_excel(file_path, index=False)\n",
    "    return prior_missing_descriptions, post_missing_descriptions"
   ]
  },
  {
   "cell_type": "code",
   "execution_count": 111,
   "metadata": {},
   "outputs": [
    {
     "name": "stdout",
     "output_type": "stream",
     "text": [
      "0.0% of InvoiceNo is missing\n",
      "0.0% of StockCode is missing\n",
      "0.2683107311375157% of Description is missing\n",
      "0.0% of Quantity is missing\n",
      "0.0% of InvoiceDate is missing\n",
      "0.0% of UnitPrice is missing\n",
      "24.926694334288598% of CustomerID is missing\n",
      "0.0% of Country is missing\n"
     ]
    }
   ],
   "source": [
    "for col in ['InvoiceNo', 'StockCode', 'Description', 'Quantity', 'InvoiceDate', 'UnitPrice', 'CustomerID', 'Country']:\n",
    "    print(f\"{df[col].isnull().mean() * 100}% of {col} is missing\")"
   ]
  },
  {
   "cell_type": "markdown",
   "metadata": {},
   "source": [
    "We see there are two columns where values are missing, so we will need to deal with those. We also need to check those values that do not make any sense e.g. negative values for Quantity or UnitPrice."
   ]
  },
  {
   "cell_type": "markdown",
   "metadata": {},
   "source": [
    "First, however, we need to drop duplicate rows to prevent double-counting."
   ]
  },
  {
   "cell_type": "code",
   "execution_count": 112,
   "metadata": {},
   "outputs": [],
   "source": [
    "def drop_duplicates(file_path):\n",
    "\n",
    "    df = pd.read_excel(file_path)\n",
    "    df = df.drop_duplicates()\n",
    "    \n",
    "    return df"
   ]
  },
  {
   "cell_type": "markdown",
   "metadata": {},
   "source": [
    "Next we deal with non-positive prices."
   ]
  },
  {
   "cell_type": "code",
   "execution_count": 125,
   "metadata": {},
   "outputs": [],
   "source": [
    "def impute_unit_price(df):\n",
    "    mask = df['UnitPrice'] <= 0\n",
    "    for stock_code in df.loc[mask, 'StockCode'].unique():\n",
    "        positive_prices = df[(df['StockCode'] == stock_code) & (df['UnitPrice'] > 0)]['UnitPrice']\n",
    "        if not positive_prices.empty:\n",
    "            mean_positive_price = positive_prices.mean()\n",
    "            df.loc[(df['StockCode'] == stock_code) & mask, 'UnitPrice'] = mean_positive_price\n",
    "            \n",
    "    return df\n"
   ]
  },
  {
   "cell_type": "code",
   "execution_count": 126,
   "metadata": {},
   "outputs": [
    {
     "name": "stdout",
     "output_type": "stream",
     "text": [
      "0.46% of UnitPrice values are zero or negative\n"
     ]
    }
   ],
   "source": [
    "negative_or_zero_price_percentage = (df['UnitPrice'] <= 0).mean() * 100\n",
    "print(f\"{negative_or_zero_price_percentage:.2f}% of UnitPrice values are zero or negative\")\n"
   ]
  },
  {
   "cell_type": "code",
   "execution_count": 127,
   "metadata": {},
   "outputs": [
    {
     "name": "stdout",
     "output_type": "stream",
     "text": [
      "After imputation, 0.02% of UnitPrice values are zero or negative\n"
     ]
    }
   ],
   "source": [
    "cleaned_df = impute_unit_price(df)\n",
    "new_negative_or_zero_price_percentage = (cleaned_df['UnitPrice'] <= 0).mean() * 100\n",
    "print(f\"After imputation, {new_negative_or_zero_price_percentage:.2f}% of UnitPrice values are zero or negative\")"
   ]
  },
  {
   "cell_type": "markdown",
   "metadata": {},
   "source": [
    "After imputation, we are left with a very small number of negative or zero UnitPrices. \n",
    "Because of the impossibility of finding out what these prices should be, we will drop them.\n"
   ]
  },
  {
   "cell_type": "code",
   "execution_count": 128,
   "metadata": {},
   "outputs": [
    {
     "name": "stdout",
     "output_type": "stream",
     "text": [
      "1.96% of Quantity values are zero or negative\n"
     ]
    }
   ],
   "source": [
    "negative_quantity = (df[\"Quantity\"] <= 0).mean() * 100\n",
    "print(f\"{negative_quantity:.2f}% of Quantity values are zero or negative\")"
   ]
  },
  {
   "cell_type": "markdown",
   "metadata": {},
   "source": [
    "Because the cases where Quantity is zero or negative deal with adjustments or outflows, we will ignore that data when looking for the top-selling data and average consumer statistics. "
   ]
  },
  {
   "cell_type": "code",
   "execution_count": 116,
   "metadata": {},
   "outputs": [
    {
     "data": {
      "text/plain": [
       "Country\n",
       "United Kingdom    91.431956\n",
       "Germany            1.752139\n",
       "France             1.579047\n",
       "EIRE               1.512431\n",
       "Spain              0.467422\n",
       "Netherlands        0.437527\n",
       "Belgium            0.381798\n",
       "Switzerland        0.369435\n",
       "Portugal           0.280305\n",
       "Australia          0.232327\n",
       "Name: proportion, dtype: float64"
      ]
     },
     "execution_count": 116,
     "metadata": {},
     "output_type": "execute_result"
    }
   ],
   "source": [
    "df[\"Country\"].value_counts(normalize=True).head(10) * 100"
   ]
  },
  {
   "cell_type": "markdown",
   "metadata": {},
   "source": [
    "The UK accounts for almost 92% of all transactions, with the rest being made up of neighbouring EU countries. "
   ]
  },
  {
   "cell_type": "code",
   "execution_count": 117,
   "metadata": {},
   "outputs": [
    {
     "name": "stdout",
     "output_type": "stream",
     "text": [
      "The first transaction was made at 2010-12-01 08:26:00\n",
      "The latest transaction was made at 2011-12-09 12:50:00\n",
      "There were a total of 25900 transactions\n"
     ]
    }
   ],
   "source": [
    "print(f\"The first transaction was made at {df['InvoiceDate'].min()}\")\n",
    "print(f\"The latest transaction was made at {df['InvoiceDate'].max()}\")\n",
    "print(f\"There were a total of {df['InvoiceNo'].nunique()} transactions\")"
   ]
  }
 ],
 "metadata": {
  "kernelspec": {
   "display_name": "venv",
   "language": "python",
   "name": "python3"
  },
  "language_info": {
   "codemirror_mode": {
    "name": "ipython",
    "version": 3
   },
   "file_extension": ".py",
   "mimetype": "text/x-python",
   "name": "python",
   "nbconvert_exporter": "python",
   "pygments_lexer": "ipython3",
   "version": "3.11.1"
  }
 },
 "nbformat": 4,
 "nbformat_minor": 2
}
