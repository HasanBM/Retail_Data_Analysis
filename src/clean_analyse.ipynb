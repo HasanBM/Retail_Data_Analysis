{
 "cells": [
  {
   "cell_type": "code",
   "execution_count": 29,
   "metadata": {},
   "outputs": [],
   "source": [
    "import pandas as pd\n",
    "from datetime import datetime\n",
    "\n",
    "file_path = '/Users/HM/Desktop/Code/FOIL_DA_Task-10-2024/data/Online_Retail.xlsx'\n",
    "df = pd.read_excel(file_path)\n"
   ]
  },
  {
   "cell_type": "code",
   "execution_count": 30,
   "metadata": {},
   "outputs": [],
   "source": [
    "\n",
    "def load_data(file_path):\n",
    "\n",
    "    df = pd.read_excel(file_path)\n",
    "\n",
    "    df = df.sort_values(by='InvoiceDate').reset_index(drop=True)\n",
    "\n",
    "    return df.shape, df.head(5), df.info()"
   ]
  },
  {
   "cell_type": "code",
   "execution_count": 31,
   "metadata": {},
   "outputs": [
    {
     "name": "stdout",
     "output_type": "stream",
     "text": [
      "<class 'pandas.core.frame.DataFrame'>\n",
      "RangeIndex: 541909 entries, 0 to 541908\n",
      "Data columns (total 8 columns):\n",
      " #   Column       Non-Null Count   Dtype         \n",
      "---  ------       --------------   -----         \n",
      " 0   InvoiceNo    541909 non-null  object        \n",
      " 1   StockCode    541909 non-null  object        \n",
      " 2   Description  540455 non-null  object        \n",
      " 3   Quantity     541909 non-null  int64         \n",
      " 4   InvoiceDate  541909 non-null  datetime64[ns]\n",
      " 5   UnitPrice    541909 non-null  float64       \n",
      " 6   CustomerID   406829 non-null  float64       \n",
      " 7   Country      541909 non-null  object        \n",
      "dtypes: datetime64[ns](1), float64(2), int64(1), object(4)\n",
      "memory usage: 33.1+ MB\n",
      "((541909, 8),   InvoiceNo StockCode                          Description  Quantity  \\\n",
      "0    536365     71053                  WHITE METAL LANTERN         6   \n",
      "1    536365    85123A   WHITE HANGING HEART T-LIGHT HOLDER         6   \n",
      "2    536365    84029G  KNITTED UNION FLAG HOT WATER BOTTLE         6   \n",
      "3    536365    84029E       RED WOOLLY HOTTIE WHITE HEART.         6   \n",
      "4    536365     22752         SET 7 BABUSHKA NESTING BOXES         2   \n",
      "\n",
      "          InvoiceDate  UnitPrice  CustomerID         Country  \n",
      "0 2010-12-01 08:26:00       3.39     17850.0  United Kingdom  \n",
      "1 2010-12-01 08:26:00       2.55     17850.0  United Kingdom  \n",
      "2 2010-12-01 08:26:00       3.39     17850.0  United Kingdom  \n",
      "3 2010-12-01 08:26:00       3.39     17850.0  United Kingdom  \n",
      "4 2010-12-01 08:26:00       7.65     17850.0  United Kingdom  , None)\n"
     ]
    }
   ],
   "source": [
    "print(load_data(file_path))"
   ]
  },
  {
   "cell_type": "markdown",
   "metadata": {},
   "source": [
    "\n",
    "A large number of CustomerIDs are missing, and will be filled in using '-1'.\n",
    "\n",
    "Direct visual inspection of the spreadsheet shows that some items seem to have been mislabeled as other items.\n",
    "\n",
    "Entries in the Description column are in combination upper- and lower-case, while item names are entirely in upper-case. This does not need to be changed. "
   ]
  },
  {
   "cell_type": "code",
   "execution_count": 32,
   "metadata": {},
   "outputs": [],
   "source": [
    "def empty_values(file_path):\n",
    "    \n",
    "    \n",
    "    df = pd.read_excel(file_path)\n",
    "\n",
    "    cols = ['InvoiceNo', 'StockCode', 'Description', 'Quantity', 'InvoiceDate', 'UnitPrice', 'CustomerID', 'Country']\n",
    "    \n",
    "    empty_values_count = {}\n",
    "    \n",
    "    for col in cols:\n",
    "        if df[col].dtype == 'object':\n",
    "            empty_values = df[df[col].isnull() | df[col].str.strip() == \"\"]\n",
    "        else:\n",
    "            empty_values = df[df[col].isnull()]\n",
    "\n",
    "        empty_values_count[col] = len(empty_values)\n",
    "\n",
    "        if len(empty_values) > 0:\n",
    "            print(f\"Column {col} has {len(empty_values)} missing or empty values\")\n",
    "        else:\n",
    "            print(f\"No empty or missing values found in {col} column\")\n",
    "            \n",
    "    return empty_values_count"
   ]
  },
  {
   "cell_type": "markdown",
   "metadata": {},
   "source": [
    "Filling empty Customer IDs with -1"
   ]
  },
  {
   "cell_type": "code",
   "execution_count": 33,
   "metadata": {},
   "outputs": [],
   "source": [
    "def fill_missing_cust_id(file_path):\n",
    "\n",
    "    df = pd.read_excel(file_path)\n",
    "    prior_missing_cust_ids= df['CustomerID'].isnull().sum()\n",
    "    df['CustomerID'] = df['CustomerID'].fillna(-1)\n",
    "\n",
    "    post_missing_cust_ids = df['CustomerID'].isnull().sum()\n",
    "\n",
    "    return prior_missing_cust_ids, post_missing_cust_ids"
   ]
  },
  {
   "cell_type": "code",
   "execution_count": 34,
   "metadata": {},
   "outputs": [
    {
     "data": {
      "text/html": [
       "<div>\n",
       "<style scoped>\n",
       "    .dataframe tbody tr th:only-of-type {\n",
       "        vertical-align: middle;\n",
       "    }\n",
       "\n",
       "    .dataframe tbody tr th {\n",
       "        vertical-align: top;\n",
       "    }\n",
       "\n",
       "    .dataframe thead th {\n",
       "        text-align: right;\n",
       "    }\n",
       "</style>\n",
       "<table border=\"1\" class=\"dataframe\">\n",
       "  <thead>\n",
       "    <tr style=\"text-align: right;\">\n",
       "      <th></th>\n",
       "      <th>Quantity</th>\n",
       "      <th>UnitPrice</th>\n",
       "    </tr>\n",
       "  </thead>\n",
       "  <tbody>\n",
       "    <tr>\n",
       "      <th>count</th>\n",
       "      <td>541909.000000</td>\n",
       "      <td>541909.000000</td>\n",
       "    </tr>\n",
       "    <tr>\n",
       "      <th>mean</th>\n",
       "      <td>9.552250</td>\n",
       "      <td>4.611114</td>\n",
       "    </tr>\n",
       "    <tr>\n",
       "      <th>std</th>\n",
       "      <td>218.081158</td>\n",
       "      <td>96.759853</td>\n",
       "    </tr>\n",
       "    <tr>\n",
       "      <th>min</th>\n",
       "      <td>-80995.000000</td>\n",
       "      <td>-11062.060000</td>\n",
       "    </tr>\n",
       "    <tr>\n",
       "      <th>25%</th>\n",
       "      <td>1.000000</td>\n",
       "      <td>1.250000</td>\n",
       "    </tr>\n",
       "    <tr>\n",
       "      <th>50%</th>\n",
       "      <td>3.000000</td>\n",
       "      <td>2.080000</td>\n",
       "    </tr>\n",
       "    <tr>\n",
       "      <th>75%</th>\n",
       "      <td>10.000000</td>\n",
       "      <td>4.130000</td>\n",
       "    </tr>\n",
       "    <tr>\n",
       "      <th>max</th>\n",
       "      <td>80995.000000</td>\n",
       "      <td>38970.000000</td>\n",
       "    </tr>\n",
       "  </tbody>\n",
       "</table>\n",
       "</div>"
      ],
      "text/plain": [
       "            Quantity      UnitPrice\n",
       "count  541909.000000  541909.000000\n",
       "mean        9.552250       4.611114\n",
       "std       218.081158      96.759853\n",
       "min    -80995.000000  -11062.060000\n",
       "25%         1.000000       1.250000\n",
       "50%         3.000000       2.080000\n",
       "75%        10.000000       4.130000\n",
       "max     80995.000000   38970.000000"
      ]
     },
     "execution_count": 34,
     "metadata": {},
     "output_type": "execute_result"
    }
   ],
   "source": [
    "df[['Quantity', 'UnitPrice']].describe()"
   ]
  },
  {
   "cell_type": "markdown",
   "metadata": {},
   "source": [
    "Some price data is negative, while the quantity for certain items are also negative implying outflow. This needs further investigation. "
   ]
  },
  {
   "cell_type": "code",
   "execution_count": null,
   "metadata": {},
   "outputs": [],
   "source": [
    "def drop_duplicates(file_path):\n",
    "\n",
    "    df = pd.read_excel(file_path)\n",
    "    df = df.drop_duplicates()\n",
    "    \n",
    "    return df\n"
   ]
  }
 ],
 "metadata": {
  "kernelspec": {
   "display_name": "venv",
   "language": "python",
   "name": "python3"
  },
  "language_info": {
   "codemirror_mode": {
    "name": "ipython",
    "version": 3
   },
   "file_extension": ".py",
   "mimetype": "text/x-python",
   "name": "python",
   "nbconvert_exporter": "python",
   "pygments_lexer": "ipython3",
   "version": "3.11.1"
  }
 },
 "nbformat": 4,
 "nbformat_minor": 2
}
